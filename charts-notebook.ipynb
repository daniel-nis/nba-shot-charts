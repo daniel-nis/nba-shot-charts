{
 "cells": [
  {
   "cell_type": "markdown",
   "metadata": {},
   "source": [
    "# NBA Player Shot Charts"
   ]
  },
  {
   "cell_type": "code",
   "execution_count": null,
   "metadata": {},
   "outputs": [],
   "source": [
    "import pandas as pd"
   ]
  },
  {
   "cell_type": "code",
   "execution_count": null,
   "metadata": {},
   "outputs": [],
   "source": [
    "from nba_api.stats.endpoints import playercareerstats\n",
    "\n",
    "# Nikola Jokić\n",
    "career = playercareerstats.PlayerCareerStats(player_id='203999')\n",
    "\n",
    "# pandas data frames (optional: pip install pandas)\n",
    "#career.get_data_frames()[0]\n",
    "\n",
    "# dictionary\n",
    "#career.get_dict()"
   ]
  },
  {
   "cell_type": "code",
   "execution_count": null,
   "metadata": {},
   "outputs": [],
   "source": [
    "from nba_api.stats.endpoints import shotchartdetail\n",
    "from nba_api.stats.static import players\n",
    "\n",
    "def fetch_shot_data(player_name):\n",
    "    player = players.find_players_by_full_name(player_name)[0]\n",
    "    player_id = player['id']\n",
    "    \n",
    "    shot_data = shotchartdetail.ShotChartDetail(\n",
    "        team_id=0,\n",
    "        player_id=player_id,\n",
    "        season_nullable='2023-24',\n",
    "        season_type_all_star='Regular Season'\n",
    "    )\n",
    "    return shot_data.get_data_frames()[0]\n",
    "fetch_shot_data('Nikola Jokic')"
   ]
  }
 ],
 "metadata": {
  "kernelspec": {
   "display_name": "shot-charts-venv",
   "language": "python",
   "name": "python3"
  },
  "language_info": {
   "codemirror_mode": {
    "name": "ipython",
    "version": 3
   },
   "file_extension": ".py",
   "mimetype": "text/x-python",
   "name": "python",
   "nbconvert_exporter": "python",
   "pygments_lexer": "ipython3",
   "version": "3.12.4"
  }
 },
 "nbformat": 4,
 "nbformat_minor": 2
}
